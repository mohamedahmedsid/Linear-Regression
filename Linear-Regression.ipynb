{
 "cells": [
  {
   "cell_type": "code",
   "execution_count": 17,
   "id": "7f5fbbaf",
   "metadata": {},
   "outputs": [],
   "source": [
    "import numpy as np\n",
    "import pandas as pd\n",
    "from sklearn.linear_model import LinearRegression\n",
    "import matplotlib.pyplot as plt\n",
    "from sklearn.metrics import r2_score"
   ]
  },
  {
   "cell_type": "code",
   "execution_count": 18,
   "id": "2679c8d3",
   "metadata": {},
   "outputs": [
    {
     "data": {
      "text/html": [
       "<div>\n",
       "<style scoped>\n",
       "    .dataframe tbody tr th:only-of-type {\n",
       "        vertical-align: middle;\n",
       "    }\n",
       "\n",
       "    .dataframe tbody tr th {\n",
       "        vertical-align: top;\n",
       "    }\n",
       "\n",
       "    .dataframe thead th {\n",
       "        text-align: right;\n",
       "    }\n",
       "</style>\n",
       "<table border=\"1\" class=\"dataframe\">\n",
       "  <thead>\n",
       "    <tr style=\"text-align: right;\">\n",
       "      <th></th>\n",
       "      <th>0</th>\n",
       "      <th>1</th>\n",
       "    </tr>\n",
       "  </thead>\n",
       "  <tbody>\n",
       "    <tr>\n",
       "      <th>0</th>\n",
       "      <td>0.43383</td>\n",
       "      <td>0.31047</td>\n",
       "    </tr>\n",
       "    <tr>\n",
       "      <th>1</th>\n",
       "      <td>-3.70230</td>\n",
       "      <td>12.49900</td>\n",
       "    </tr>\n",
       "    <tr>\n",
       "      <th>2</th>\n",
       "      <td>0.52219</td>\n",
       "      <td>0.67190</td>\n",
       "    </tr>\n",
       "    <tr>\n",
       "      <th>3</th>\n",
       "      <td>-3.50940</td>\n",
       "      <td>11.59400</td>\n",
       "    </tr>\n",
       "    <tr>\n",
       "      <th>4</th>\n",
       "      <td>-2.41450</td>\n",
       "      <td>10.46400</td>\n",
       "    </tr>\n",
       "  </tbody>\n",
       "</table>\n",
       "</div>"
      ],
      "text/plain": [
       "         0         1\n",
       "0  0.43383   0.31047\n",
       "1 -3.70230  12.49900\n",
       "2  0.52219   0.67190\n",
       "3 -3.50940  11.59400\n",
       "4 -2.41450  10.46400"
      ]
     },
     "execution_count": 18,
     "metadata": {},
     "output_type": "execute_result"
    }
   ],
   "source": [
    "df=pd.read_csv('task1.csv', sep=',',header=None)\n",
    "df.head()"
   ]
  },
  {
   "cell_type": "code",
   "execution_count": 19,
   "id": "42e55f9d",
   "metadata": {},
   "outputs": [],
   "source": [
    "X = df.iloc[:,0].values.reshape(-1,1)\n",
    "y = df.iloc[:,1].values.reshape(-1,1)"
   ]
  },
  {
   "cell_type": "markdown",
   "id": "49b11a38",
   "metadata": {},
   "source": [
    "The cell below represents the mathematical calculations of the Least Squares Approach for our regression analysis to this task (Ek´Art, n.d.),(GeeksforGeeks, 2017)"
   ]
  },
  {
   "cell_type": "code",
   "execution_count": 20,
   "id": "c8dcae62",
   "metadata": {},
   "outputs": [],
   "source": [
    "mean_x = np.mean(X)\n",
    "mean_y = np.mean(y)\n",
    "diff_x = X - mean_x\n",
    "diff_y = y - mean_y\n",
    "b1 = np.sum(diff_x * diff_y) / np.sum(diff_x**2)\n",
    "b0 = mean_y - b1 * mean_x\n",
    "def predict(x):\n",
    "    return b1 * x + b0\n",
    "y_pred = np.array([predict(x) for x in X])\n",
    "'''\n",
    "We can also directly use the implemented library scikit-learn\n",
    "#reg = LinearRegression()\n",
    "#reg.fit(X, y)\n",
    "#y_pred = reg.predict(X)\n",
    "'''\n",
    "r2 = r2_score(y, y_pred)"
   ]
  },
  {
   "cell_type": "code",
   "execution_count": 21,
   "id": "763c8d3e",
   "metadata": {},
   "outputs": [
    {
     "name": "stdout",
     "output_type": "stream",
     "text": [
      "R^2 Score: 0.9924\n"
     ]
    },
    {
     "data": {
      "image/png": "[encoded data removed]",
      "text/plain": [
       "<Figure size 640x480 with 1 Axes>"
      ]
     },
     "metadata": {},
     "output_type": "display_data"
    }
   ],
   "source": [
    "plt.scatter(X, y, label='Data')\n",
    "plt.plot(X, y_pred, color='red', label='Fitted line')\n",
    "plt.legend()\n",
    "plt.title('Least Squares Regression')\n",
    "print(f\"R^2 Score: {r2:.4f}\")"
   ]
  },
  {
   "cell_type": "markdown",
   "id": "c1ed933d",
   "metadata": {},
   "source": [
    "-Ek´Art, A. (n.d.). week 2 Machine Learning Regression Analysis Simple linear regression\n"
   ]
  },
  {
   "cell_type": "markdown",
   "id": "7df4242b",
   "metadata": {},
   "source": [
    "-GeeksforGeeks. (2017). Linear Regression (Python Implementation) - GeeksforGeeks. [online] Available at: https://www.geeksforgeeks.org/linear-regression-python-implementation/."
   ]
  },
  {
   "cell_type": "code",
   "execution_count": null,
   "id": "b8358afc",
   "metadata": {},
   "outputs": [],
   "source": []
  }
 ],
 "metadata": {
  "kernelspec": {
   "display_name": "Python 3 (ipykernel)",
   "language": "python",
   "name": "python3"
  },
  "language_info": {
   "codemirror_mode": {
    "name": "ipython",
    "version": 3
   },
   "file_extension": ".py",
   "mimetype": "text/x-python",
   "name": "python",
   "nbconvert_exporter": "python",
   "pygments_lexer": "ipython3",
   "version": "3.11.4"
  }
 },
 "nbformat": 4,
 "nbformat_minor": 5
}
